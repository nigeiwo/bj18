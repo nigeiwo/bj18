{
 "cells": [
  {
   "cell_type": "markdown",
   "metadata": {},
   "source": [
    "首先加载数据，可以看出训练集与测试集长度均为25000"
   ]
  },
  {
   "cell_type": "code",
   "execution_count": 1,
   "metadata": {
    "pycharm": {
     "is_executing": false
    }
   },
   "outputs": [
    {
     "name": "stderr",
     "output_type": "stream",
     "text": [
      "Using TensorFlow backend.\n"
     ]
    },
    {
     "name": "stdout",
     "output_type": "stream",
     "text": [
      "[1, 14, 22, 16, 43, 530, 973, 1622, 1385, 65, 458, 4468, 66, 3941, 4, 173, 36, 256, 5, 25, 100, 43, 838, 112, 50, 670, 2, 9, 35, 480, 284, 5, 150, 4, 172, 112, 167, 2, 336, 385, 39, 4, 172, 4536, 1111, 17, 546, 38, 13, 447, 4, 192, 50, 16, 6, 147, 2025, 19, 14, 22, 4, 1920, 4613, 469, 4, 22, 71, 87, 12, 16, 43, 530, 38, 76, 15, 13, 1247, 4, 22, 17, 515, 17, 12, 16, 626, 18, 2, 5, 62, 386, 12, 8, 316, 8, 106, 5, 4, 2223, 5244, 16, 480, 66, 3785, 33, 4, 130, 12, 16, 38, 619, 5, 25, 124, 51, 36, 135, 48, 25, 1415, 33, 6, 22, 12, 215, 28, 77, 52, 5, 14, 407, 16, 82, 2, 8, 4, 107, 117, 5952, 15, 256, 4, 2, 7, 3766, 5, 723, 36, 71, 43, 530, 476, 26, 400, 317, 46, 7, 4, 2, 1029, 13, 104, 88, 4, 381, 15, 297, 98, 32, 2071, 56, 26, 141, 6, 194, 7486, 18, 4, 226, 22, 21, 134, 476, 26, 480, 5, 144, 30, 5535, 18, 51, 36, 28, 224, 92, 25, 104, 4, 226, 65, 16, 38, 1334, 88, 12, 16, 283, 5, 16, 4472, 113, 103, 32, 15, 16, 5345, 19, 178, 32]\n",
      "25000\n",
      "[1, 591, 202, 14, 31, 6, 717, 10, 10, 2, 2, 5, 4, 360, 7, 4, 177, 5760, 394, 354, 4, 123, 9, 1035, 1035, 1035, 10, 10, 13, 92, 124, 89, 488, 7944, 100, 28, 1668, 14, 31, 23, 27, 7479, 29, 220, 468, 8, 124, 14, 286, 170, 8, 157, 46, 5, 27, 239, 16, 179, 2, 38, 32, 25, 7944, 451, 202, 14, 6, 717]\n",
      "25000\n"
     ]
    }
   ],
   "source": [
    "import keras\n",
    "import pandas_profiling\n",
    "import numpy as np\n",
    "import pandas as pd\n",
    "\n",
    "imdb = keras.datasets.imdb\n",
    "(train_data, train_labels), (test_data, test_labels) = imdb.load_data(num_words=10000)\n",
    "print(train_data[0])\n",
    "print(len(train_data))\n",
    "print(test_data[0])\n",
    "print(len(test_data))"
   ]
  },
  {
   "cell_type": "markdown",
   "metadata": {},
   "source": [
    "将所有的影评对应的词id装换为影评原文，将所有标签转换为list格式，以便在在后面转换为DataFrame格式。"
   ]
  },
  {
   "cell_type": "code",
   "execution_count": 4,
   "metadata": {
    "scrolled": true
   },
   "outputs": [
    {
     "name": "stdout",
     "output_type": "stream",
     "text": [
      "[\"<START> this film was just brilliant casting location scenery story direction everyone's really suited the part they played and you could just imagine being there robert <UNK> is an amazing actor and now the same being director <UNK> father came from the same scottish island as myself so i loved the fact there was a real connection with this film the witty remarks throughout the film were great it was just brilliant so much that i bought the film as soon as it was released for <UNK> and would recommend it to everyone to watch and the fly fishing was amazing really cried at the end it was so sad and you know what they say if you cry at a film it must have been good and this definitely was also <UNK> to the two little boy's that played the <UNK> of norman and paul they were just brilliant children are often left out of the <UNK> list i think because the stars that play them all grown up are such a big profile for the whole film but these children are amazing and should be praised for what they have done don't you think the whole story was so lovely because it was true and was someone's life after all that was shared with us all\", \"<START> big hair big boobs bad music and a giant safety pin these are the words to best describe this terrible movie i love cheesy horror movies and i've seen hundreds but this had got to be on of the worst ever made the plot is paper thin and ridiculous the acting is an abomination the script is completely laughable the best is the end showdown with the cop and how he worked out who the killer is it's just so damn terribly written the clothes are sickening and funny in equal <UNK> the hair is big lots of boobs <UNK> men wear those cut <UNK> shirts that show off their <UNK> sickening that men actually wore them and the music is just <UNK> trash that plays over and over again in almost every scene there is trashy music boobs and <UNK> taking away bodies and the gym still doesn't close for <UNK> all joking aside this is a truly bad film whose only charm is to look back on the disaster that was the 80's and have a good old laugh at how bad everything was back then\", \"<START> this has to be one of the worst films of the 1990s when my friends i were watching this film being the target audience it was aimed at we just sat watched the first half an hour with our jaws touching the floor at how bad it really was the rest of the time everyone else in the theatre just started talking to each other leaving or generally crying into their popcorn that they actually paid money they had <UNK> working to watch this feeble excuse for a film it must have looked like a great idea on paper but on film it looks like no one in the film has a clue what is going on crap acting crap costumes i can't get across how <UNK> this is to watch save yourself an hour a bit of your life\", \"<START> the <UNK> <UNK> at storytelling the traditional sort many years after the event i can still see in my <UNK> eye an elderly lady my friend's mother retelling the battle of <UNK> she makes the characters come alive her passion is that of an eye witness one to the events on the <UNK> heath a mile or so from where she lives br br of course it happened many years before she was born but you wouldn't guess from the way she tells it the same story is told in bars the length and <UNK> of scotland as i discussed it with a friend one night in <UNK> a local cut in to give his version the discussion continued to closing time br br stories passed down like this become part of our being who doesn't remember the stories our parents told us when we were children they become our invisible world and as we grow older they maybe still serve as inspiration or as an emotional <UNK> fact and fiction blend with <UNK> role models warning stories <UNK> magic and mystery br br my name is <UNK> like my grandfather and his grandfather before him our protagonist introduces himself to us and also introduces the story that stretches back through generations it produces stories within stories stories that evoke the <UNK> wonder of scotland its rugged mountains <UNK> in <UNK> the stuff of legend yet <UNK> is <UNK> in reality this is what gives it its special charm it has a rough beauty and authenticity <UNK> with some of the finest <UNK> singing you will ever hear br br <UNK> <UNK> visits his grandfather in hospital shortly before his death he burns with frustration part of him <UNK> to be in the twenty first century to hang out in <UNK> but he is raised on the western <UNK> among a <UNK> speaking community br br yet there is a deeper conflict within him he <UNK> to know the truth the truth behind his <UNK> ancient stories where does fiction end and he wants to know the truth behind the death of his parents br br he is pulled to make a last <UNK> journey to the <UNK> of one of <UNK> most <UNK> mountains can the truth be told or is it all in stories br br in this story about stories we <UNK> bloody battles <UNK> lovers the <UNK> of old and the sometimes more <UNK> <UNK> of accepted truth in doing so we each connect with <UNK> as he lives the story of his own life br br <UNK> the <UNK> <UNK> is probably the most honest <UNK> and genuinely beautiful film of scotland ever made like <UNK> i got slightly annoyed with the <UNK> of hanging stories on more stories but also like <UNK> i <UNK> this once i saw the <UNK> picture ' forget the box office <UNK> of braveheart and its like you might even <UNK> the <UNK> famous <UNK> of the wicker man to see a film that is true to scotland this one is probably unique if you maybe <UNK> on it deeply enough you might even re <UNK> the power of storytelling and the age old question of whether there are some truths that cannot be told but only experienced\", \"<START> worst mistake of my life br br i picked this movie up at target for 5 because i figured hey it's sandler i can get some cheap laughs i was wrong completely wrong mid way through the film all three of my friends were asleep and i was still suffering worst plot worst script worst movie i have ever seen i wanted to hit my head up against a wall for an hour then i'd stop and you know why because it felt damn good upon bashing my head in i stuck that damn movie in the <UNK> and watched it burn and that felt better than anything else i've ever done it took american psycho army of darkness and kill bill just to get over that crap i hate you sandler for actually going through with this and ruining a whole day of my life\", \"<START> begins better than it ends funny that the russian submarine crew <UNK> all other actors it's like those scenes where documentary shots br br spoiler part the message <UNK> was contrary to the whole story it just does not <UNK> br br\", \"<START> lavish production values and solid performances in this straightforward adaption of jane <UNK> satirical classic about the marriage game within and between the classes in <UNK> 18th century england northam and paltrow are a <UNK> mixture as friends who must pass through <UNK> and lies to discover that they love each other good humor is a <UNK> virtue which goes a long way towards explaining the <UNK> of the aged source material which has been toned down a bit in its harsh <UNK> i liked the look of the film and how shots were set up and i thought it didn't rely too much on <UNK> of head shots like most other films of the 80s and 90s do very good results\", \"<START> the <UNK> tells the story of the four hamilton siblings teenager francis <UNK> <UNK> twins <UNK> joseph <UNK> <UNK> <UNK> <UNK> the <UNK> david samuel who is now the surrogate parent in charge the <UNK> move house a lot <UNK> is unsure why is unhappy with the way things are the fact that his brother's sister kidnap <UNK> murder people in the basement doesn't help relax or calm <UNK> nerves either francis <UNK> something just isn't right when he eventually finds out the truth things will never be the same again br br co written co produced directed by mitchell <UNK> phil <UNK> as the butcher brothers who's only other film director's credit so far is the april <UNK> day 2008 remake enough said this was one of the <UNK> to die <UNK> at the 2006 after dark <UNK> or whatever it's called in keeping with pretty much all the other's i've seen i thought the <UNK> was complete total utter crap i found the character's really poor very unlikable the slow moving story failed to capture my imagination or sustain my interest over it's 85 a half minute too long <UNK> minute duration the there's the awful twist at the end which had me laughing out loud there's this really big <UNK> build up to what's inside a <UNK> thing in the <UNK> basement it's eventually revealed to be a little boy with a teddy is that really supposed to scare us is that really supposed to shock us is that really something that is supposed to have us talking about it as the end credits roll is a harmless looking young boy the best <UNK> ending that the makers could come up with the boring plot <UNK> along it's never made clear where the <UNK> get all their money from to buy new houses since none of them seem to work except david in a <UNK> i doubt that pays much or why they haven't been caught before now the script tries to mix in every day drama with potent horror it just does a terrible job of combining the two to the extent that neither aspect is memorable or effective a really bad film that i am struggling to say anything good about br br despite being written directed by the extreme sounding butcher brothers there's no gore here there's a bit of blood splatter a few scenes of girls <UNK> up in a basement but nothing you couldn't do at home yourself with a bottle of <UNK> <UNK> a camcorder the film is neither scary since it's got a very middle class suburban setting there's zero atmosphere or mood there's a lesbian suggest incestuous kiss but the <UNK> is low on the exploitation scale there's not much here for the horror crowd br br filmed in <UNK> in california this has that modern low budget look about it it's not badly made but rather forgettable the acting by an unknown to me cast is nothing to write home about i can't say i ever felt anything for anyone br br the <UNK> commits the <UNK> sin of being both dull boring from which it never <UNK> add to that an ultra thin story no gore a rubbish ending character's who you don't give a toss about you have a film that did not impress me at all\", \"<START> just got out and cannot believe what a brilliant documentary this is rarely do you walk out of a movie theater in such awe and <UNK> lately movies have become so over hyped that the thrill of discovering something truly special and unique rarely happens <UNK> <UNK> did this to me when it first came out and this movie is doing to me now i didn't know a thing about this before going into it and what a surprise if you hear the concept you might get the feeling that this is one of those <UNK> movies about an amazing triumph covered with over the top music and trying to have us fully convinced of what a great story it is telling but then not letting us in <UNK> this is not that movie the people tell the story this does such a good job of capturing every moment of their involvement while we enter their world and feel every second with them there is so much beyond the climb that makes everything they go through so much more tense touching the void was also a great doc about mountain climbing and showing the intensity in an engaging way but this film is much more of a human story i just saw it today but i will go and say that this is one of the best documentaries i have ever seen\", \"<START> this movie has many problem associated with it that makes it come off like a low budget class project from someone in film school i have to give it credit on its <UNK> though many times throughout the movie i found myself laughing hysterically it was so bad at times that it was comical which made it a fun watch br br if you're looking for a low grade slasher movie with a twist of psychological horror and a dash of campy <UNK> then pop a bowl of popcorn invite some friends over and have some fun br br i agree with other comments that the sound is very bad dialog is next to impossible to follow much of the time and the soundtrack is kind of just there\"]\n"
     ]
    },
    {
     "name": "stdout",
     "output_type": "stream",
     "text": [
      "25000\n",
      "[1, 0, 0, 1, 0, 0, 1, 0, 1, 0]\n"
     ]
    }
   ],
   "source": [
    "word_index = imdb.get_word_index()\n",
    "word_index = {k: (v+3) for k,v in word_index.items()}\n",
    "word_index[\"<PAD>\"] = 0\n",
    "word_index[\"<START>\"] = 1\n",
    "word_index[\"<UNK>\"] = 2\n",
    "word_index[\"<UNUSED>\"] = 3\n",
    "reverse_word_index = {v: k for k, v in word_index.items()}\n",
    "\n",
    "\n",
    "def decode_review(text):\n",
    "    return ' '.join([reverse_word_index.get(i, '?') for i in text])\n",
    "\n",
    "train_text = []\n",
    "for i in range(len(train_data)):\n",
    "    text = decode_review(train_data[i])\n",
    "    train_text.append(text)\n",
    "print(train_text[0:10])\n",
    "\n",
    "test_text = []\n",
    "for i in range(len(test_data)):\n",
    "    text = decode_review(test_data[i])\n",
    "    test_text.append(text)\n",
    "print(len(test_text))\n",
    "train_label_list = list(train_labels)\n",
    "test_label_list = list(test_labels)\n",
    "print(train_label_list[0:10])"
   ]
  },
  {
   "cell_type": "markdown",
   "metadata": {},
   "source": [
    "这里由于panda_profiling这个数据可视化预览组件在windows无法使用，所以忽略以下错误"
   ]
  },
  {
   "cell_type": "code",
   "execution_count": 5,
   "metadata": {},
   "outputs": [
    {
     "name": "stderr",
     "output_type": "stream",
     "text": [
      "D:\\Anaconda\\Anaconda\\lib\\site-packages\\pandas_profiling\\describe.py:392: FutureWarning: The join_axes-keyword is deprecated. Use .reindex or .reindex_like on the result to achieve the same functionality.\n",
      "  variable_stats = pd.concat(ldesc, join_axes=pd.Index([names]), axis=1)\n"
     ]
    },
    {
     "ename": "MemoryError",
     "evalue": "",
     "output_type": "error",
     "traceback": [
      "\u001b[1;31m---------------------------------------------------------------------------\u001b[0m",
      "\u001b[1;31mMemoryError\u001b[0m                               Traceback (most recent call last)",
      "\u001b[1;32m<ipython-input-5-48b7dfdea8e2>\u001b[0m in \u001b[0;36m<module>\u001b[1;34m()\u001b[0m\n\u001b[0;32m      3\u001b[0m \u001b[0mdata_test1\u001b[0m \u001b[1;33m=\u001b[0m \u001b[0mpd\u001b[0m\u001b[1;33m.\u001b[0m\u001b[0mDataFrame\u001b[0m\u001b[1;33m(\u001b[0m\u001b[1;33m[\u001b[0m\u001b[0mtest_text\u001b[0m\u001b[1;33m,\u001b[0m \u001b[0mtest_label_list\u001b[0m\u001b[1;33m]\u001b[0m\u001b[1;33m,\u001b[0m \u001b[0mindex\u001b[0m\u001b[1;33m=\u001b[0m\u001b[1;33m[\u001b[0m\u001b[1;34m'test'\u001b[0m\u001b[1;33m,\u001b[0m \u001b[1;34m'label'\u001b[0m\u001b[1;33m]\u001b[0m\u001b[1;33m)\u001b[0m\u001b[1;33m\u001b[0m\u001b[0m\n\u001b[0;32m      4\u001b[0m \u001b[1;33m\u001b[0m\u001b[0m\n\u001b[1;32m----> 5\u001b[1;33m \u001b[0mtrain\u001b[0m \u001b[1;33m=\u001b[0m \u001b[0mpandas_profiling\u001b[0m\u001b[1;33m.\u001b[0m\u001b[0mProfileReport\u001b[0m\u001b[1;33m(\u001b[0m\u001b[0mdata_train1\u001b[0m\u001b[1;33m)\u001b[0m\u001b[1;33m\u001b[0m\u001b[0m\n\u001b[0m\u001b[0;32m      6\u001b[0m     \u001b[1;31m#test = pandas_profiling.ProfileReport(data_test1)\u001b[0m\u001b[1;33m\u001b[0m\u001b[1;33m\u001b[0m\u001b[0m\n\u001b[0;32m      7\u001b[0m \u001b[1;33m\u001b[0m\u001b[0m\n",
      "\u001b[1;32mD:\\Anaconda\\Anaconda\\lib\\site-packages\\pandas_profiling\\__init__.py\u001b[0m in \u001b[0;36m__init__\u001b[1;34m(self, df, **kwargs)\u001b[0m\n\u001b[0;32m     67\u001b[0m \u001b[1;33m\u001b[0m\u001b[0m\n\u001b[0;32m     68\u001b[0m         self.html = to_html(sample,\n\u001b[1;32m---> 69\u001b[1;33m                             description_set)\n\u001b[0m\u001b[0;32m     70\u001b[0m \u001b[1;33m\u001b[0m\u001b[0m\n\u001b[0;32m     71\u001b[0m         \u001b[0mself\u001b[0m\u001b[1;33m.\u001b[0m\u001b[0mdescription_set\u001b[0m \u001b[1;33m=\u001b[0m \u001b[0mdescription_set\u001b[0m\u001b[1;33m\u001b[0m\u001b[0m\n",
      "\u001b[1;32mD:\\Anaconda\\Anaconda\\lib\\site-packages\\pandas_profiling\\report.py\u001b[0m in \u001b[0;36mto_html\u001b[1;34m(sample, stats_object)\u001b[0m\n\u001b[0;32m    174\u001b[0m             \u001b[0mformatted_values\u001b[0m\u001b[1;33m[\u001b[0m\u001b[1;34m'lastn_expanded'\u001b[0m\u001b[1;33m]\u001b[0m \u001b[1;33m=\u001b[0m \u001b[0mextreme_obs_table\u001b[0m\u001b[1;33m(\u001b[0m\u001b[0mstats_object\u001b[0m\u001b[1;33m[\u001b[0m\u001b[1;34m'freq'\u001b[0m\u001b[1;33m]\u001b[0m\u001b[1;33m[\u001b[0m\u001b[0midx\u001b[0m\u001b[1;33m]\u001b[0m\u001b[1;33m,\u001b[0m \u001b[0mtemplates\u001b[0m\u001b[1;33m.\u001b[0m\u001b[0mtemplate\u001b[0m\u001b[1;33m(\u001b[0m\u001b[1;34m'freq_table'\u001b[0m\u001b[1;33m)\u001b[0m\u001b[1;33m,\u001b[0m \u001b[0mtemplates\u001b[0m\u001b[1;33m.\u001b[0m\u001b[0mtemplate\u001b[0m\u001b[1;33m(\u001b[0m\u001b[1;34m'freq_table_row'\u001b[0m\u001b[1;33m)\u001b[0m\u001b[1;33m,\u001b[0m \u001b[1;36m5\u001b[0m\u001b[1;33m,\u001b[0m \u001b[0mn_obs\u001b[0m\u001b[1;33m,\u001b[0m \u001b[0mascending\u001b[0m \u001b[1;33m=\u001b[0m \u001b[1;32mFalse\u001b[0m\u001b[1;33m)\u001b[0m\u001b[1;33m\u001b[0m\u001b[0m\n\u001b[0;32m    175\u001b[0m \u001b[1;33m\u001b[0m\u001b[0m\n\u001b[1;32m--> 176\u001b[1;33m         \u001b[0mrows_html\u001b[0m \u001b[1;33m+=\u001b[0m \u001b[0mtemplates\u001b[0m\u001b[1;33m.\u001b[0m\u001b[0mrow_templates_dict\u001b[0m\u001b[1;33m[\u001b[0m\u001b[0mrow\u001b[0m\u001b[1;33m[\u001b[0m\u001b[1;34m'type'\u001b[0m\u001b[1;33m]\u001b[0m\u001b[1;33m]\u001b[0m\u001b[1;33m.\u001b[0m\u001b[0mrender\u001b[0m\u001b[1;33m(\u001b[0m\u001b[0mvalues\u001b[0m\u001b[1;33m=\u001b[0m\u001b[0mformatted_values\u001b[0m\u001b[1;33m,\u001b[0m \u001b[0mrow_classes\u001b[0m\u001b[1;33m=\u001b[0m\u001b[0mrow_classes\u001b[0m\u001b[1;33m)\u001b[0m\u001b[1;33m\u001b[0m\u001b[0m\n\u001b[0m\u001b[0;32m    177\u001b[0m \u001b[1;33m\u001b[0m\u001b[0m\n\u001b[0;32m    178\u001b[0m     \u001b[1;31m# Overview\u001b[0m\u001b[1;33m\u001b[0m\u001b[1;33m\u001b[0m\u001b[0m\n",
      "\u001b[1;31mMemoryError\u001b[0m: "
     ]
    }
   ],
   "source": [
    "import threading\n",
    "data_train1 = pd.DataFrame([train_text, train_label_list], index=['train', 'label'])\n",
    "data_test1 = pd.DataFrame([test_text, test_label_list], index=['test', 'label'])\n",
    "\n",
    "train = pandas_profiling.ProfileReport(data_train1)\n",
    "    #test = pandas_profiling.ProfileReport(data_test1)\n",
    "    \n",
    "    #test.to_file(outputfile=\"test.html\")\n"
   ]
  },
  {
   "cell_type": "markdown",
   "metadata": {},
   "source": [
    "将所有的数据转化为统一长度后，进行训练"
   ]
  },
  {
   "cell_type": "code",
   "execution_count": 6,
   "metadata": {},
   "outputs": [
    {
     "name": "stdout",
     "output_type": "stream",
     "text": [
      "WARNING:tensorflow:From D:\\Anaconda\\Anaconda\\lib\\site-packages\\tensorflow\\python\\framework\\op_def_library.py:263: colocate_with (from tensorflow.python.framework.ops) is deprecated and will be removed in a future version.\n",
      "Instructions for updating:\n",
      "Colocations handled automatically by placer.\n",
      "_________________________________________________________________\n",
      "Layer (type)                 Output Shape              Param #   \n",
      "=================================================================\n",
      "embedding_1 (Embedding)      (None, None, 16)          320000    \n",
      "_________________________________________________________________\n",
      "global_average_pooling1d_1 ( (None, 16)                0         \n",
      "_________________________________________________________________\n",
      "dense_1 (Dense)              (None, 32)                544       \n",
      "_________________________________________________________________\n",
      "dense_2 (Dense)              (None, 16)                528       \n",
      "_________________________________________________________________\n",
      "dense_3 (Dense)              (None, 1)                 17        \n",
      "=================================================================\n",
      "Total params: 321,089\n",
      "Trainable params: 321,089\n",
      "Non-trainable params: 0\n",
      "_________________________________________________________________\n",
      "WARNING:tensorflow:From D:\\Anaconda\\Anaconda\\lib\\site-packages\\tensorflow\\python\\ops\\math_ops.py:3066: to_int32 (from tensorflow.python.ops.math_ops) is deprecated and will be removed in a future version.\n",
      "Instructions for updating:\n",
      "Use tf.cast instead.\n",
      "Train on 20000 samples, validate on 5000 samples\n",
      "Epoch 1/30\n",
      "20000/20000 [==============================] - 3s 136us/step - loss: 7.9465 - acc: 0.5015 - val_loss: 8.0700 - val_acc: 0.4938\n",
      "Epoch 2/30\n",
      "20000/20000 [==============================] - 2s 99us/step - loss: 7.9465 - acc: 0.5015 - val_loss: 8.0700 - val_acc: 0.4938\n",
      "Epoch 3/30\n",
      "20000/20000 [==============================] - 2s 98us/step - loss: 7.9465 - acc: 0.5015 - val_loss: 8.0700 - val_acc: 0.4938\n",
      "Epoch 4/30\n",
      "20000/20000 [==============================] - 2s 115us/step - loss: 7.9465 - acc: 0.5016 - val_loss: 8.0700 - val_acc: 0.4938\n",
      "Epoch 5/30\n",
      "20000/20000 [==============================] - 2s 107us/step - loss: 7.9465 - acc: 0.5016 - val_loss: 8.0700 - val_acc: 0.4938\n",
      "Epoch 6/30\n",
      "20000/20000 [==============================] - 2s 89us/step - loss: 7.9465 - acc: 0.5015 - val_loss: 8.0700 - val_acc: 0.4938\n",
      "Epoch 7/30\n",
      "20000/20000 [==============================] - 2s 93us/step - loss: 7.9465 - acc: 0.5016 - val_loss: 8.0700 - val_acc: 0.4938\n",
      "Epoch 8/30\n",
      "20000/20000 [==============================] - 2s 97us/step - loss: 7.9465 - acc: 0.5015 - val_loss: 8.0700 - val_acc: 0.4938\n",
      "Epoch 9/30\n",
      "20000/20000 [==============================] - 2s 92us/step - loss: 7.9465 - acc: 0.5015 - val_loss: 8.0700 - val_acc: 0.4938\n",
      "Epoch 10/30\n",
      "20000/20000 [==============================] - 2s 103us/step - loss: 7.9465 - acc: 0.5016 - val_loss: 8.0700 - val_acc: 0.4938\n",
      "Epoch 11/30\n",
      "20000/20000 [==============================] - 2s 93us/step - loss: 7.9465 - acc: 0.5015 - val_loss: 8.0700 - val_acc: 0.4938\n",
      "Epoch 12/30\n",
      "20000/20000 [==============================] - 2s 92us/step - loss: 7.9465 - acc: 0.5015 - val_loss: 8.0700 - val_acc: 0.4938\n",
      "Epoch 13/30\n",
      "20000/20000 [==============================] - 2s 89us/step - loss: 7.9465 - acc: 0.5015 - val_loss: 8.0700 - val_acc: 0.4938\n",
      "Epoch 14/30\n",
      "20000/20000 [==============================] - 2s 87us/step - loss: 7.9465 - acc: 0.5016 - val_loss: 8.0700 - val_acc: 0.4938\n",
      "Epoch 15/30\n",
      "20000/20000 [==============================] - 2s 92us/step - loss: 7.9465 - acc: 0.5015 - val_loss: 8.0700 - val_acc: 0.4938\n",
      "Epoch 16/30\n",
      "20000/20000 [==============================] - 2s 95us/step - loss: 7.9465 - acc: 0.5015 - val_loss: 8.0700 - val_acc: 0.4938\n",
      "Epoch 17/30\n",
      "20000/20000 [==============================] - 2s 91us/step - loss: 7.9465 - acc: 0.5015 - val_loss: 8.0700 - val_acc: 0.4938\n",
      "Epoch 18/30\n",
      "20000/20000 [==============================] - 2s 107us/step - loss: 7.9465 - acc: 0.5016 - val_loss: 8.0700 - val_acc: 0.4938\n",
      "Epoch 19/30\n",
      "20000/20000 [==============================] - 2s 90us/step - loss: 7.9465 - acc: 0.5015 - val_loss: 8.0700 - val_acc: 0.4938\n",
      "Epoch 20/30\n",
      "20000/20000 [==============================] - 2s 91us/step - loss: 7.9465 - acc: 0.5015 - val_loss: 8.0700 - val_acc: 0.4938\n",
      "Epoch 21/30\n",
      "20000/20000 [==============================] - 2s 99us/step - loss: 7.9465 - acc: 0.5016 - val_loss: 8.0700 - val_acc: 0.4938\n",
      "Epoch 22/30\n",
      "20000/20000 [==============================] - 2s 95us/step - loss: 7.9465 - acc: 0.5015 - val_loss: 8.0700 - val_acc: 0.4938\n",
      "Epoch 23/30\n",
      "20000/20000 [==============================] - 2s 92us/step - loss: 7.9465 - acc: 0.5015 - val_loss: 8.0700 - val_acc: 0.4938\n",
      "Epoch 24/30\n",
      "20000/20000 [==============================] - 2s 87us/step - loss: 7.9465 - acc: 0.5016 - val_loss: 8.0700 - val_acc: 0.4938\n",
      "Epoch 25/30\n",
      "20000/20000 [==============================] - 2s 88us/step - loss: 7.9465 - acc: 0.5016 - val_loss: 8.0700 - val_acc: 0.4938\n",
      "Epoch 26/30\n",
      "20000/20000 [==============================] - 2s 88us/step - loss: 7.9465 - acc: 0.5015 - val_loss: 8.0700 - val_acc: 0.4938\n",
      "Epoch 27/30\n",
      "20000/20000 [==============================] - 2s 93us/step - loss: 7.9465 - acc: 0.5016 - val_loss: 8.0700 - val_acc: 0.4938\n",
      "Epoch 28/30\n",
      "20000/20000 [==============================] - 2s 95us/step - loss: 7.9465 - acc: 0.5015 - val_loss: 8.0700 - val_acc: 0.4938\n",
      "Epoch 29/30\n",
      "20000/20000 [==============================] - 2s 94us/step - loss: 7.9465 - acc: 0.5015 - val_loss: 8.0700 - val_acc: 0.4938\n",
      "Epoch 30/30\n",
      "20000/20000 [==============================] - 2s 89us/step - loss: 7.9465 - acc: 0.5015 - val_loss: 8.0700 - val_acc: 0.4938\n",
      "25000/25000 [==============================] - 1s 44us/step\n",
      "[7.9711923559570312, 0.5]\n"
     ]
    }
   ],
   "source": [
    "from keras.preprocessing.sequence import pad_sequences\n",
    "from keras import Sequential\n",
    "from keras.layers import Embedding, GlobalAveragePooling1D, Dense\n",
    "process_train_x = pad_sequences(train_data, value=0, padding='post', maxlen=300)\n",
    "process_test_x = pad_sequences(test_data, value=0, padding='post', maxlen=300)\n",
    "train_x = process_train_x[:20000]\n",
    "val_x = process_train_x[20000:]\n",
    "train_y = train_labels[:20000]\n",
    "val_y = train_labels[20000:]\n",
    "model = Sequential()\n",
    "model.add(Embedding(20000, 16))\n",
    "model.add(GlobalAveragePooling1D())\n",
    "model.add(Dense(32, activation='relu'))\n",
    "model.add(Dense(16, activation='relu'))\n",
    "model.add(Dense(1, activation='softmax'))\n",
    "model.summary()\n",
    "model.compile(loss='binary_crossentropy', optimizer='adam',\n",
    "              metrics=['accuracy'])\n",
    "model.fit(train_x, train_y, epochs=30, batch_size=500,\n",
    "          validation_data=[val_x, val_y])\n",
    "res = model.evaluate(process_test_x, test_labels)\n",
    "print(res)"
   ]
  },
  {
   "cell_type": "code",
   "execution_count": null,
   "metadata": {},
   "outputs": [],
   "source": []
  }
 ],
 "metadata": {
  "kernelspec": {
   "display_name": "Python 3",
   "language": "python",
   "name": "python3"
  },
  "language_info": {
   "codemirror_mode": {
    "name": "ipython",
    "version": 3
   },
   "file_extension": ".py",
   "mimetype": "text/x-python",
   "name": "python",
   "nbconvert_exporter": "python",
   "pygments_lexer": "ipython3",
   "version": "3.6.5"
  }
 },
 "nbformat": 4,
 "nbformat_minor": 1
}
